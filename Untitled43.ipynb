{
 "cells": [
  {
   "cell_type": "markdown",
   "id": "a3ab8e24-fbb6-4247-bcd3-29bf64c2b3ec",
   "metadata": {},
   "source": [
    "## Q1. What is the difference between Ordinal Encoding and Label Encoding? Provide an example of when you\n",
    "might choose one over the other."
   ]
  },
  {
   "cell_type": "code",
   "execution_count": null,
   "id": "76c0cfdd-16eb-4839-a489-45fc79d0196a",
   "metadata": {},
   "outputs": [],
   "source": [
    "\n",
    "Ordinal Encoding and Label Encoding are both techniques used to convert categorical variables into numerical representations, but they differ in how they handle the relationship between the categories.\n",
    "\n",
    "Ordinal Encoding:\n",
    "\n",
    "Ordinal Encoding assigns a unique integer value to each category, but it also considers the order or rank of the categories.\n",
    "It is suitable for categorical variables where the categories have a meaningful order or hierarchy.\n",
    "For example, ordinal encoding might assign the labels {\"Low\": 0, \"Medium\": 1, \"High\": 2} to a variable indicating the level of risk.\n",
    "Label Encoding:\n",
    "\n",
    "Label Encoding also assigns a unique integer value to each category, but it does not consider any inherent order or hierarchy among the categories.\n",
    "It is appropriate for categorical variables where there is no meaningful order or hierarchy.\n",
    "For example, label encoding might assign the labels {\"Red\": 0, \"Blue\": 1, \"Green\": 2} to a variable indicating colors.\n",
    "Here's an example illustrating the difference between Ordinal Encoding and Label Encoding:\n",
    "\n",
    "\n",
    "from sklearn.preprocessing import OrdinalEncoder, LabelEncoder\n",
    "\n",
    "# Example data: car sizes with ordinal relationship\n",
    "car_sizes = [\"Compact\", \"Midsize\", \"Full-size\", \"Compact\", \"Midsize\"]\n",
    "\n",
    "# Ordinal Encoding\n",
    "ordinal_encoder = OrdinalEncoder(categories=[[\"Compact\", \"Midsize\", \"Full-size\"]])\n",
    "ordinal_encoded = ordinal_encoder.fit_transform([[size] for size in car_sizes])\n",
    "\n",
    "print(\"Ordinal Encoded car sizes:\", ordinal_encoded.ravel())\n",
    "\n",
    "# Label Encoding\n",
    "label_encoder = LabelEncoder()\n",
    "label_encoded = label_encoder.fit_transform(car_sizes)\n",
    "\n",
    "print(\"Label Encoded car sizes:\", label_encoded)\n",
    "Output:\n",
    "\n",
    "\n",
    "Ordinal Encoded car sizes: [0. 1. 2. 0. 1.]\n",
    "Label Encoded car sizes: [0 1 2 0 1]\n",
    "In this example:\n",
    "\n",
    "Ordinal Encoding considers the order of the categories (\"Compact\" < \"Midsize\" < \"Full-size\") and assigns numeric labels accordingly.\n",
    "Label Encoding does not consider any order among the categories and simply assigns numeric labels arbitrarily.\n",
    "When to choose one over the other:\n",
    "\n",
    "Use Ordinal Encoding when the categorical variable has an inherent order or hierarchy that needs to be preserved. For example, levels of education (\"High School\" < \"Bachelor's\" < \"Master's\" < \"PhD\").\n",
    "Use Label Encoding when there is no meaningful order among the categories, and they can be treated as nominal. For example, types of fruits (\"Apple\", \"Banana\", \"Orange\")."
   ]
  },
  {
   "cell_type": "markdown",
   "id": "2141dfc6-d289-4ce2-b22b-2834dd06a20e",
   "metadata": {},
   "source": [
    "## Q2. Explain how Target Guided Ordinal Encoding works and provide an example of when you might use it in\n",
    "a machine learning project."
   ]
  },
  {
   "cell_type": "code",
   "execution_count": null,
   "id": "81cc005b-6c17-46ba-9e16-b6f3e27cc92c",
   "metadata": {},
   "outputs": [],
   "source": [
    "Calculate Mean/Median/Mode of Target Variable: For each category in the categorical variable, calculate the mean, median, or mode of the target variable within that category. This step captures the relationship between the category and the target.\n",
    "\n",
    "Order Categories by Target Variable: Order the categories based on their mean, median, or mode of the target variable. Categories with higher mean (or median/mode) values of the target variable are assigned higher numeric labels, while categories with lower mean (or median/mode) values are assigned lower numeric labels.\n",
    "\n",
    "Assign Numeric Labels: Assign ordinal numeric labels to the categories based on their order in terms of the target variable.\n",
    "\n",
    "Encode Categorical Variable: Replace the original categorical variable with the assigned numeric labels.\n",
    "\n",
    "Here's an example scenario where you might use Target Guided Ordinal Encoding in a machine learning project:\n",
    "\n",
    "Suppose you're working on a classification task to predict customer churn in a telecom company. One of the features is \"Tenure,\" which represents the duration of time a customer has been with the company. You believe that there is a monotonic relationship between tenure and the likelihood of churn—customers who have been with the company for a longer tenure are less likely to churn.\n",
    "\n",
    "In this scenario, you can use Target Guided Ordinal Encoding to encode the \"Tenure\" feature based on its relationship with the target variable (churn). The categories of \"Tenure\" can be ordered based on the average churn rate within each category. Categories with lower churn rates are assigned lower numeric labels, while categories with higher churn rates are assigned higher numeric labels. This encoding captures the monotonic relationship between tenure and churn, allowing the model to effectively learn from this feature.\n",
    "\n",
    "import pandas as pd\n",
    "from sklearn.model_selection import train_test_split\n",
    "from feature_engine.encoding import OrdinalEncoder\n",
    "\n",
    "# Sample data\n",
    "data = {\n",
    "    'Tenure': [2, 5, 8, 1, 10, 3, 7, 6, 4, 9],\n",
    "    'Churn': [0, 1, 0, 1, 0, 1, 0, 1, 0, 1]  # 0: No churn, 1: Churn\n",
    "}\n",
    "\n",
    "df = pd.DataFrame(data)\n",
    "\n",
    "# Split data into training and testing sets\n",
    "X_train, X_test, y_train, y_test = train_test_split(df[['Tenure']], df['Churn'], test_size=0.2, random_state=42)\n",
    "\n",
    "# Apply Target Guided Ordinal Encoding\n",
    "encoder = OrdinalEncoder(encoding_method='ordered')\n",
    "X_train_encoded = encoder.fit_transform(X_train, y_train)\n",
    "X_test_encoded = encoder.transform(X_test)\n",
    "\n",
    "print(\"Encoded Training Data:\")\n",
    "print(X_train_encoded)\n",
    "\n",
    "print(\"\\nEncoded Testing Data:\")\n",
    "print(X_test_encoded)"
   ]
  }
 ],
 "metadata": {
  "kernelspec": {
   "display_name": "Julia 1.8.3",
   "language": "julia",
   "name": "julia-1.8"
  },
  "language_info": {
   "file_extension": ".jl",
   "mimetype": "application/julia",
   "name": "julia",
   "version": "1.8.3"
  }
 },
 "nbformat": 4,
 "nbformat_minor": 5
}
